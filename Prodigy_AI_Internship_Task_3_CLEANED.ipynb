{
 "cells": [
  {
   "cell_type": "code",
   "execution_count": 1,
   "metadata": {
    "id": "_7eT0-QI0kYi"
   },
   "outputs": [],
   "source": [
    "# Load Krishna-themed dataset from uploaded file\n",
    "with open('/content/krishna_inspired_dataset.txt', 'r', encoding='utf-8') as file:\n",
    "    krishna_text = file.read()\n"
   ]
  },
  {
   "cell_type": "code",
   "execution_count": 2,
   "metadata": {
    "id": "nqMl9swM065p"
   },
   "outputs": [],
   "source": [
    "import re\n",
    "\n",
    "# Optional: Clean text - remove special characters (keep only words and basic punctuation)\n",
    "cleaned_text = re.sub(r'[^\\w\\s\\.\\,\\!\\?]', '', krishna_text)"
   ]
  },
  {
   "cell_type": "code",
   "execution_count": 3,
   "metadata": {
    "id": "V7ttBB151qg7"
   },
   "outputs": [],
   "source": [
    "import random\n",
    "\n",
    "def build_markov_chain(text, n=2):\n",
    "    words = text.split()\n",
    "    chain = {}\n",
    "\n",
    "    for i in range(len(words) - n):\n",
    "        key = tuple(words[i:i+n])\n",
    "        next_word = words[i+n]\n",
    "        if key not in chain:\n",
    "            chain[key] = []\n",
    "        chain[key].append(next_word)\n",
    "\n",
    "    return chain\n",
    "\n",
    "def generate_text(chain, num_words=50):\n",
    "    start = random.choice(list(chain.keys()))\n",
    "    output = list(start)\n",
    "\n",
    "    for _ in range(num_words):\n",
    "        state = tuple(output[-2:])\n",
    "        next_words = chain.get(state)\n",
    "        if not next_words:\n",
    "            break\n",
    "        next_word = random.choice(next_words)\n",
    "        output.append(next_word)\n",
    "\n",
    "    return ' '.join(output)\n"
   ]
  },
  {
   "cell_type": "code",
   "execution_count": 4,
   "metadata": {
    "colab": {
     "base_uri": "https://localhost:8080/"
    },
    "id": "E8JiF7JW2vCS",
    "outputId": "31b3f70f-e3a1-43e3-bcfa-ba2dfbe7d218"
   },
   "outputs": [
    {
     "name": "stdout",
     "output_type": "stream",
     "text": [
      "Generated Text:\n",
      " fruit of work. Steady your mind in yoga, O warrior, and rise beyond dualities.\n"
     ]
    }
   ],
   "source": [
    "# Build the Markov chain using the cleaned Krishna-themed text\n",
    "chain = build_markov_chain(cleaned_text)\n",
    "\n",
    "# Generate and print new Krishna-style text\n",
    "generated_text = generate_text(chain, num_words=40)\n",
    "print(\"Generated Text:\\n\", generated_text)\n"
   ]
  },
  {
   "cell_type": "code",
   "execution_count": 5,
   "metadata": {
    "colab": {
     "base_uri": "https://localhost:8080/"
    },
    "id": "9_A3XKC03dTd",
    "outputId": "a43c7085-f13b-4d98-c69b-4356d7ade7de"
   },
   "outputs": [
    {
     "name": "stdout",
     "output_type": "stream",
     "text": [
      "\n",
      "🌀 Output 1:\n",
      "\n",
      "duty, abandon attachment, and find liberation. Even a little effort towards spiritual progress protects one from great fear. You have the right to work, but never to the fruit of work. Steady your mind in yoga, O warrior, and rise beyond dualities.\n",
      "------------------------------------------------------------\n",
      "\n",
      "🌀 Output 2:\n",
      "\n",
      "great fear. You have the right to work, but never to the fruit of work. Steady your mind in yoga, O warrior, and rise beyond dualities.\n",
      "------------------------------------------------------------\n",
      "\n",
      "🌀 Output 3:\n",
      "\n",
      "born, nor does it ever die. Perform your duty, abandon attachment, and find liberation. Even a little effort towards spiritual progress protects one from great fear. You have the right to work, but never to the fruit of work. Steady your mind\n",
      "------------------------------------------------------------\n",
      "\n",
      "🌀 Output 4:\n",
      "\n",
      "O Arjuna, those who have conquered themselves, find peace within. The soul is neither born, nor does it ever die. Perform your duty, abandon attachment, and find liberation. Even a little effort towards spiritual progress protects one from great fear. You have\n",
      "------------------------------------------------------------\n",
      "\n",
      "🌀 Output 5:\n",
      "\n",
      "find liberation. Even a little effort towards spiritual progress protects one from great fear. You have the right to work, but never to the fruit of work. Steady your mind in yoga, O warrior, and rise beyond dualities.\n",
      "------------------------------------------------------------\n"
     ]
    }
   ],
   "source": [
    "# Generate and display multiple outputs\n",
    "def generate_multiple_outputs(chain, num_outputs=5, words_per_output=40):\n",
    "    for i in range(num_outputs):\n",
    "        print(f\"\\n🌀 Output {i+1}:\\n\")\n",
    "        generated = generate_text(chain, num_words=words_per_output)\n",
    "        print(generated)\n",
    "        print(\"-\" * 60)\n",
    "\n",
    "# Generate 5 Krishna-inspired outputs\n",
    "generate_multiple_outputs(chain, num_outputs=5, words_per_output=40)\n"
   ]
  }
 ],
 "metadata": {
  "colab": {
   "provenance": []
  },
  "kernelspec": {
   "display_name": "Python 3",
   "name": "python3"
  },
  "language_info": {
   "name": "python"
  }
 },
 "nbformat": 4,
 "nbformat_minor": 0
}
